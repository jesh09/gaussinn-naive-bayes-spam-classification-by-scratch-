{
 "cells": [
  {
   "cell_type": "code",
   "execution_count": 1,
   "metadata": {},
   "outputs": [],
   "source": [
    "import pandas as pd\n",
    "import numpy as np\n",
    "Data = pd.read_table(\"/root/Desktop/SMSSpamCollection.txt\")\n",
    "\n",
    "Data = Data.rename(index=str, columns={\"ham\": \"ham/spam\", \"Go until jurong point, crazy.. Available only in bugis n great world la e buffet... Cine there got amore wat...\": \"Message\"})\n",
    "\n",
    "# ham = Data[Data[\"ham/spam\"] == \"ham\"]\n",
    "# spam = Data[Data[\"ham/spam\"] == \"spam\"]\n",
    "\n",
    "# TrainingSpamData, CrossValidateSpamData, TestSpamData  = np.split(spam,[int(0.6*len(spam)),int(0.8*len(spam))])\n",
    "# TrainingHamData, CrossValidateHamData, TestHamData  = np.split(ham,[int(0.6*len(ham)),int(0.8*len(ham))])\n",
    "\n",
    "# CrossValidateData = pd.concat([CrossValidateSpamData,CrossValidateHamData])\n",
    "# TestData = pd.concat([TestSpamData,TestHamData])"
   ]
  },
  {
   "cell_type": "code",
   "execution_count": 3,
   "metadata": {
    "collapsed": true
   },
   "outputs": [],
   "source": [
    "TrainingSpamData = TrainingSpamData[\"Message\"].str.split()\n",
    "spam_list= []\n",
    "for i in TrainingSpamData:\n",
    "    for j in i:\n",
    "        spam_list.append(j)\n",
    "\n",
    "\n",
    "TrainingSpamData_dict = {x:spam_list.count(x) for x in spam_list}"
   ]
  },
  {
   "cell_type": "code",
   "execution_count": 4,
   "metadata": {
    "collapsed": true
   },
   "outputs": [],
   "source": [
    "TrainingHamData = TrainingHamData[\"Message\"].str.split()\n",
    "ham_list= []\n",
    "for i in TrainingHamData:\n",
    "    for j in i:\n",
    "        ham_list.append(j)\n",
    "TrainingHamData_dict = {x:ham_list.count(x) for x in ham_list}"
   ]
  },
  {
   "cell_type": "code",
   "execution_count": 6,
   "metadata": {
    "collapsed": true
   },
   "outputs": [],
   "source": [
    "TrainingSpamData_dict_keys = list(TrainingSpamData_dict.keys())\n",
    "TrainingSpamData_dict_values = list(TrainingSpamData_dict.values())\n",
    "TrainingHamData_dict_keys = list(TrainingHamData_dict.keys())\n",
    "TrainingHamData_dict_values = list(TrainingHamData_dict.values())\n",
    "\n",
    "for i in range(len(TrainingSpamData_dict_values)):\n",
    "    TrainingSpamData_dict_values[i] = (TrainingSpamData_dict_values[i]/len(TrainingSpamData_dict_values))\n",
    "    \n",
    "for i in range(len(TrainingHamData_dict_values)):\n",
    "    TrainingHamData_dict_values[i] = (TrainingHamData_dict_values[i]/len(TrainingHamData_dict_values))\n"
   ]
  },
  {
   "cell_type": "code",
   "execution_count": 7,
   "metadata": {
    "collapsed": true
   },
   "outputs": [],
   "source": [
    "TrainingSpamData_dict = dict(zip(TrainingSpamData_dict_keys, TrainingSpamData_dict_values))\n",
    "TrainingHamData_dict = dict(zip(TrainingHamData_dict_keys, TrainingHamData_dict_values))"
   ]
  },
  {
   "cell_type": "code",
   "execution_count": 9,
   "metadata": {},
   "outputs": [
    {
     "name": "stdout",
     "output_type": "stream",
     "text": [
      "-2.009531476740354\n",
      "-0.14392980196390984\n"
     ]
    }
   ],
   "source": [
    "TrainingData = len(TrainingSpamData)+len(TrainingHamData)\n",
    "Probability_spam = np.log(len(TrainingSpamData)/TrainingData)\n",
    "Probability_ham = np.log(len(TrainingHamData)/TrainingData)\n",
    "print(Probability_spam)\n",
    "print(Probability_ham)"
   ]
  },
  {
   "cell_type": "code",
   "execution_count": 28,
   "metadata": {},
   "outputs": [
    {
     "name": "stdout",
     "output_type": "stream",
     "text": [
      "Cross Validation:---------\n",
      "Accuracy CV Data:  83.30341113105925\n"
     ]
    }
   ],
   "source": [
    "import re\n",
    "\n",
    "cpSpam = 1\n",
    "cpHam  = 1\n",
    "answers = []\n",
    "correct = 0\n",
    "for i in range(0,len(CrossValidateData)):\n",
    "    s = (CrossValidateData['Message'].iloc[i])\n",
    "    s = s.lower()\n",
    "    s = re.sub(r'[^\\w\\s]','',s)\n",
    "    s = s.split()\n",
    "    sSpam = list(set(s) & set(TrainingSpamData_dict.keys()))\n",
    "    cpSpam = 0\n",
    "    sHam = list(set(s) & set(TrainingHamData_dict.keys()))\n",
    "    cpHam = 0\n",
    "    for j in range(0,len(sHam)):\n",
    "        cpHam = cpHam + np.log(TrainingHamData_dict[sHam[j]])\n",
    "    for j in range(0,len(sSpam)):\n",
    "        cpSpam = cpSpam + np.log(TrainingSpamData_dict[sSpam[j]])\n",
    "    \n",
    "    if(cpHam>cpSpam):\n",
    "        answers.append('spam')\n",
    "    else:\n",
    "        answers.append('ham')\n",
    "     \n",
    "for i in range(0,len(answers)):\n",
    "    if(answers[i] == CrossValidateData['ham/spam'].iloc[i]):\n",
    "        correct = correct + 1\n",
    "print('Cross Validation:---------')\n",
    "#print(\"CP Spam Log Probability: \",cpSpam)\n",
    "#print(\"CP Ham Log Probability:\",cpHam)\n",
    "print(\"Accuracy CV Data: \",(correct/len(answers))*100)\n"
   ]
  },
  {
   "cell_type": "code",
   "execution_count": 29,
   "metadata": {},
   "outputs": [
    {
     "name": "stdout",
     "output_type": "stream",
     "text": [
      "Testing:-------------\n",
      "CP Spam Log Probability:  -23.85716813496475\n",
      "CP Ham Log Probability: -30.324196325370096\n",
      "Accuracy Test Data:  85.02242152466367\n"
     ]
    }
   ],
   "source": [
    "correct = 0\n",
    "answers = []\n",
    "\n",
    "for i in range(0,len(TestData)):\n",
    "    s = (TestData['Message'].iloc[i])\n",
    "    s = s.lower()\n",
    "    s = re.sub(r'[^\\w\\s]','',s)\n",
    "    s = s.split()\n",
    "    sSpam = list(set(s) & set(TrainingSpamData_dict.keys()))\n",
    "    cpSpam = 0\n",
    "    sHam = list(set(s) & set(TrainingHamData_dict.keys()))\n",
    "    cpHam = 0\n",
    "    for j in range(0,len(sHam)):\n",
    "        cpHam = cpHam + np.log(TrainingHamData_dict[sHam[j]])\n",
    "    for j in range(0,len(sSpam)):\n",
    "        cpSpam = cpSpam + np.log(TrainingSpamData_dict[sSpam[j]])\n",
    "    \n",
    "    if(cpHam>cpSpam):\n",
    "        answers.append('spam')\n",
    "    else:\n",
    "        answers.append('ham')\n",
    "\n",
    "for i in range(0,len(answers)):\n",
    "    if(answers[i] == TestData['ham/spam'].iloc[i]):\n",
    "        correct = correct + 1\n",
    "print('Testing:-------------')\n",
    "print(\"CP Spam Log Probability: \",cpSpam)\n",
    "print(\"CP Ham Log Probability:\",cpHam)\n",
    "print(\"Accuracy Test Data: \",(correct/len(answers))*100)"
   ]
  },
  {
   "cell_type": "code",
   "execution_count": null,
   "metadata": {
    "collapsed": true
   },
   "outputs": [],
   "source": []
  }
 ],
 "metadata": {
  "kernelspec": {
   "display_name": "Python 3",
   "language": "python",
   "name": "python3"
  },
  "language_info": {
   "codemirror_mode": {
    "name": "ipython",
    "version": 3
   },
   "file_extension": ".py",
   "mimetype": "text/x-python",
   "name": "python",
   "nbconvert_exporter": "python",
   "pygments_lexer": "ipython3",
   "version": "3.6.3"
  }
 },
 "nbformat": 4,
 "nbformat_minor": 2
}
